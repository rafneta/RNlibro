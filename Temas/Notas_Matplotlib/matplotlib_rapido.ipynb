{
 "cells": [
  {
   "cell_type": "markdown",
   "id": "7091d4c4",
   "metadata": {},
   "source": [
    "![](https://raw.githubusercontent.com/rafneta/RNlibro/master/imagenes/banner.png)\n",
    "\n",
    "```{contents}\n",
    ":depth: 4\n",
    "```\n",
    "\n",
    "# Matplotlib\n",
    "\n"
   ]
  },
  {
   "cell_type": "markdown",
   "id": "30fb7fd8",
   "metadata": {},
   "source": [
    "- [Página principal de Matplotlib](https://matplotlib.org/stable/index.html#)\n",
    "- [Documentación](https://matplotlib.org/stable/api/index.html)\n",
    "- [Galeria](https://matplotlib.org/stable/gallery/index.html)\n",
    "\n",
    "\n",
    "\n"
   ]
  },
  {
   "cell_type": "code",
   "execution_count": null,
   "id": "e0fa2361-b634-4341-9464-287fb128ffc0",
   "metadata": {},
   "outputs": [],
   "source": []
  }
 ],
 "metadata": {
  "kernelspec": {
   "display_name": "Python 3 (ipykernel)",
   "language": "python",
   "name": "python3"
  },
  "language_info": {
   "codemirror_mode": {
    "name": "ipython",
    "version": 3
   },
   "file_extension": ".py",
   "mimetype": "text/x-python",
   "name": "python",
   "nbconvert_exporter": "python",
   "pygments_lexer": "ipython3",
   "version": "3.8.5"
  },
  "toc-showcode": false,
  "toc-showmarkdowntxt": false,
  "toc-showtags": true
 },
 "nbformat": 4,
 "nbformat_minor": 5
}
