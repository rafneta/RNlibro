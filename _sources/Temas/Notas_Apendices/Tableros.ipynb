{
 "cells": [
  {
   "cell_type": "markdown",
   "metadata": {
    "tags": []
   },
   "source": [
    " ![](https://raw.githubusercontent.com/rafneta/RNlibro/master/imagenes/banner.png)\n",
    "\n",
    "```{contents}\n",
    ":depth: 4\n",
    "```\n",
    "\n",
    "# Tableros\n",
    " \n",
    " \n",
    " **Tableau**  [Ejemplo Tableau](https://public.tableau.com/es-es/gallery/historical-population-and-apportionment-data-map?tab=viz-of-the-day&type=viz-of-the-day)\n",
    " \n",
    " **Power BI** [Ejemplo Power BI](https://community.powerbi.com/t5/Data-Stories-Gallery/Estimate-Electricity-Energy-Usage-and-Cost-Back-to-School/td-p/785961)\n",
    " \n",
    " **y muchos otros**\n",
    " \n",
    " La página de data México es un ejmplo de visualización con tableros múltiples [enlace](https://datamexico.org) \n",
    " \n",
    " \n",
    " **PyViz** Es una plataforma abierta para ayudar a los usuarios a decidir cuáles son las mejores herramientas de visualización de datos de Python de código abierto (OSS) para sus propósitos, con enlaces, descripciones generales, comparaciones y ejemplos. [PyViz](https://pyviz.org/)\n",
    " \n",
    " En este laboratorio nos enfocamos en tableros. Algunas herramientas son las siguientes:\n",
    " \n",
    " **Dash** es un marco productivo de Python para crear aplicaciones de análisis web. Compatible con _Julia_ y _R_ (muy parecido a shiny de _R_)  [dash](https://dash.plotly.com/)\n",
    " \n",
    " [Ejemplo Dash](https://dash-gallery.plotly.host/ddk-oil-and-gas-demo/)\n",
    " \n",
    " **Panel** es una biblioteca de Python de código abierto que le permite crear aplicaciones web interactivas y paneles de control conectando widgets definidos por el usuario a gráficos, imágenes, tablas o texto. [panel](https://panel.holoviz.org/index.html#)\n",
    " \n",
    " [Ejemplo Panel](https://attractors.pyviz.demo.anaconda.com/attractors_panel)\n",
    " \n",
    " **Bokeh** simplifica la creación de gráficos comunes, pero también puede manejar casos de uso personalizados o especializados: gráficos, paneles y aplicaciones [Bokeh](https://bokeh.org/)\n",
    " \n",
    " [Ejemplo Bokeh]()\n",
    "  \n",
    " **HoloViews** es una biblioteca de Python de código abierto diseñada para hacer que el análisis y la visualización de datos sean perfectos y sencillos. [HoloViews](https://holoviews.org/)\n",
    " \n",
    " \n",
    "- instalación de panel `conda install -c pyviz panel`\n",
    "- instalación bokeh  `conda install bokeh`\n",
    "- instalación holoviews `conda install -c pyviz holoviews bokeh` (en la instalción incluye la instlación de bokeh, si este ta esra instalado no es necesario instalarlo nuevamente)"
   ]
  },
  {
   "cell_type": "code",
   "execution_count": null,
   "metadata": {},
   "outputs": [],
   "source": [
    "import panel as pn\n",
    "pn.extension()"
   ]
  },
  {
   "cell_type": "code",
   "execution_count": null,
   "metadata": {},
   "outputs": [],
   "source": [
    "pn.pane.Markdown('''# H1 ## H2 ### H3''')"
   ]
  },
  {
   "cell_type": "code",
   "execution_count": null,
   "metadata": {
    "tags": []
   },
   "outputs": [],
   "source": [
    "png = pn.panel('https://upload.wikimedia.org/wikipedia/commons/4/47/PNG_transparency_demonstration_1.png', width=300)\n",
    "png"
   ]
  },
  {
   "cell_type": "code",
   "execution_count": null,
   "metadata": {},
   "outputs": [],
   "source": [
    "column = pn.Column('# Título', pn.widgets.FloatSlider())\n",
    "column.append('* Anotación 1\\n* Anotación 2')\n",
    "column.extend([pn.widgets.TextInput(), pn.widgets.Checkbox(name=' Activar!')])\n",
    "column[3] = pn.widgets.Button(name='Ejecutar simulación')\n",
    "column"
   ]
  },
  {
   "cell_type": "code",
   "execution_count": null,
   "metadata": {},
   "outputs": [],
   "source": [
    "from bokeh.plotting import figure\n",
    "\n",
    "p1 = figure(width=300, height=300)\n",
    "p1.line([1, 2, 3], [1, 2, 3])\n",
    "\n",
    "tabs = pn.Tabs(p1)\n",
    "\n",
    "# Add a tab\n",
    "tabs.append(('Slider', pn.widgets.FloatSlider()))\n",
    "\n",
    "# Add multiple tabs\n",
    "tabs.extend([\n",
    "    ('Text', pn.widgets.TextInput()),\n",
    "    ('Color', pn.widgets.ColorPicker())\n",
    "])\n",
    "\n",
    "tabs"
   ]
  },
  {
   "cell_type": "code",
   "execution_count": null,
   "metadata": {},
   "outputs": [],
   "source": [
    "import holoviews as hv\n",
    "import holoviews.plotting.bokeh\n",
    "\n",
    "from bokeh.plotting import figure\n",
    "\n",
    "fig = figure()\n",
    "fig.scatter([0, 1, 2, 3, 4, 5, 6, 7, 8, 9], [0, 1, 2, 3, 2, 1, 0, -1, -2, -3])\n",
    "\n",
    "gspec = pn.GridSpec(sizing_mode='stretch_both', max_height=800)\n",
    "\n",
    "gspec[0, :3] = pn.Spacer(background='#FF0000')\n",
    "gspec[1:3, 0] = pn.Spacer(background='#0000FF')\n",
    "gspec[1:3, 1:3] = fig\n",
    "gspec[3:5, 0] = hv.Curve([1, 2, 3])\n",
    "gspec[3:5, 1] = 'https://upload.wikimedia.org/wikipedia/commons/4/47/PNG_transparency_demonstration_1.png'\n",
    "gspec[4:5, 2] = pn.Column(\n",
    "    pn.widgets.FloatSlider(),\n",
    "    pn.widgets.ColorPicker(),\n",
    "    pn.widgets.Toggle(name='Picale!'))\n",
    "\n",
    "gspec"
   ]
  },
  {
   "cell_type": "code",
   "execution_count": null,
   "metadata": {},
   "outputs": [],
   "source": [
    "import pandas as pd\n",
    "import plotly.express as px\n",
    "pn.extension('plotly')"
   ]
  },
  {
   "cell_type": "code",
   "execution_count": null,
   "metadata": {},
   "outputs": [],
   "source": [
    "data = pd.DataFrame([\n",
    "    ('Monday', 7), ('Tuesday', 4), ('Wednesday', 9), ('Thursday', 4),\n",
    "    ('Friday', 4), ('Saturday', 4), ('Sunay', 4)], columns=['Day', 'Orders']\n",
    ")\n",
    "\n",
    "fig = px.line(data, x=\"Day\", y=\"Orders\")\n",
    "fig.update_traces(mode=\"lines+markers\", marker=dict(size=10), line=dict(width=4))\n",
    "fig.layout.autosize = True\n",
    "\n",
    "responsive = pn.pane.Plotly(fig, config={'responsive': True})\n",
    "\n",
    "pn.Column('# Gráfica ajustada', responsive, sizing_mode='stretch_width')"
   ]
  },
  {
   "cell_type": "code",
   "execution_count": null,
   "metadata": {},
   "outputs": [],
   "source": [
    "import panel as pn\n",
    "import numpy as np\n",
    "import holoviews as hv\n",
    "\n",
    "pn.extension()"
   ]
  },
  {
   "cell_type": "code",
   "execution_count": null,
   "metadata": {},
   "outputs": [],
   "source": [
    "bootstrap = pn.template.BootstrapTemplate(title='Bootstrap Template')\n",
    "\n",
    "pn.config.sizing_mode = 'stretch_width'\n",
    "\n",
    "xs = np.linspace(0, np.pi)\n",
    "freq = pn.widgets.FloatSlider(name=\"Frequency\", start=0, end=10, value=2)\n",
    "phase = pn.widgets.FloatSlider(name=\"Phase\", start=0, end=np.pi)\n",
    "\n",
    "@pn.depends(freq=freq, phase=phase)\n",
    "def sine(freq, phase):\n",
    "    return hv.Curve((xs, np.sin(xs*freq+phase))).opts(\n",
    "        responsive=True, min_height=400)\n",
    "\n",
    "@pn.depends(freq=freq, phase=phase)\n",
    "def cosine(freq, phase):\n",
    "    return hv.Curve((xs, np.cos(xs*freq+phase))).opts(\n",
    "        responsive=True, min_height=400)\n",
    "\n",
    "bootstrap.sidebar.append(freq)\n",
    "bootstrap.sidebar.append(phase)\n",
    "\n",
    "bootstrap.main.append(\n",
    "    pn.Row(\n",
    "        pn.Card(hv.DynamicMap(sine), title='Sine'),\n",
    "        pn.Card(hv.DynamicMap(cosine), title='Cosine')\n",
    "    )\n",
    ")\n",
    "\n",
    "bootstrap.show()"
   ]
  },
  {
   "cell_type": "markdown",
   "metadata": {},
   "source": [
    "## Construcción de un tablero "
   ]
  },
  {
   "cell_type": "code",
   "execution_count": null,
   "metadata": {},
   "outputs": [],
   "source": [
    "import panel as pn\n",
    "import plotly.express as px\n",
    "pn.extension('plotly')"
   ]
  },
  {
   "cell_type": "code",
   "execution_count": null,
   "metadata": {},
   "outputs": [],
   "source": [
    "gapminder = px.data.gapminder()\n",
    "\n",
    "\n",
    "ano = pn.widgets.Select(name='Año', \n",
    "                        options= gapminder.year.unique().tolist(),\n",
    "                        background='#f0f0f0',\n",
    "                        margin=(25, 25, 10, 25))\n",
    "pais = pn.widgets.Select(name='País',\n",
    "                         options= gapminder.country.unique().tolist(),\n",
    "                         background='#f0f0f0',\n",
    "                        margin=(10, 25, 25, 25))\n",
    "\n",
    "\n",
    "\n",
    "\n",
    "\n",
    "@pn.depends(pais=pais)\n",
    "def grafica(pais):\n",
    "    datos = gapminder[gapminder.country==pais]\n",
    "    return px.scatter(datos, x=\"year\", y=\"gdpPercap\", color=\"lifeExp\", size=\"pop\", size_max=60)\n",
    "\n",
    "\n",
    "@pn.depends(ano=ano)\n",
    "def continente(ano):\n",
    "    datos = gapminder[gapminder.year==ano]\n",
    "    return px.scatter(datos, x=\"gdpPercap\", y=\"lifeExp\", color=\"continent\", size=\"pop\", size_max=60)\n",
    "\n",
    "\n",
    "gspec = pn.GridSpec(sizing_mode='stretch_both', max_height=800, background='#f0f0f0')\n",
    "\n",
    "gspec[0, :] = pn.Row(pn.pane.Markdown(''' # Tablero \\n Este tablero es una práctica ''',style={'font-family': \"serif\"}),\n",
    "                    margin=(25, 25, 25, 25))\n",
    "\n",
    "gspec[1:3, 0:0] = pn.Column(ano,pais,\n",
    "                          background='#3f3f3f',\n",
    "                           margin=(25, 25, 25, 25))\n",
    "\n",
    "gspec[1:5, 1:3] = pn.Tabs((\"Por País\",grafica),(\"Fija continente y año\",continente),\n",
    "                         background='#3f3f3f',\n",
    "                       margin=(25, 25, 25, 25))\n",
    "\n",
    "\n",
    "gspec"
   ]
  },
  {
   "cell_type": "code",
   "execution_count": null,
   "metadata": {},
   "outputs": [],
   "source": []
  }
 ],
 "metadata": {
  "kernelspec": {
   "display_name": "Python 3 (ipykernel)",
   "language": "python",
   "name": "python3"
  },
  "language_info": {
   "codemirror_mode": {
    "name": "ipython",
    "version": 3
   },
   "file_extension": ".py",
   "mimetype": "text/x-python",
   "name": "python",
   "nbconvert_exporter": "python",
   "pygments_lexer": "ipython3",
   "version": "3.8.5"
  }
 },
 "nbformat": 4,
 "nbformat_minor": 4
}
