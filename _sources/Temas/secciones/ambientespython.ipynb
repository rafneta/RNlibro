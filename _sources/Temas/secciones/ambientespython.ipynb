{
 "cells": [
  {
   "cell_type": "markdown",
   "id": "f6e31047",
   "metadata": {},
   "source": [
    "![](https://raw.githubusercontent.com/rafneta/RNlibro/master/imagenes/banner.png)\n",
    "\n",
    "```{contents}\n",
    ":depth: 4\n",
    "```\n",
    "\n",
    "# Ambientes para Python\n",
    "\n",
    "\n",
    "Para elegir una IDE (integrated development environment) de Python existen diferentes criterios\n",
    "\n",
    "- [Spyder](https://www.spyder-ide.org)\n",
    "- [Visual Studio Code](https://code.visualstudio.com/)\n",
    "- [Atom](https://atom.io/)\n",
    "- [PyCharm Community Edition](https://www.jetbrains.com/pycharm/). Es necesario enlazar con Anaconda \n",
    "- [RStudio](https://rstudio.com/products/rstudio/download/). Es necesaria la configuración de la biblioteca _reticulate_ para enlazar con Anaconda\n",
    "- [Jupyter](https://jupyter.org/install)\n",
    "\n",
    "\n",
    "## Para ejecución en la nube\n",
    "\n",
    "- [Google Colab](https://colab.research.google.com)\n",
    "- [Binder](https://mybinder.org)\n",
    "- [Kaggle notebooks](https://www.kaggle.com/kernels)\n",
    "- [DataLore](https://datalore.io)\n",
    "- [Microsoft Azure ML](https://docs.microsoft.com/en-us/azure/machine-learning/how-to-manage-workspace?tabs=python) \n",
    "\n",
    "\n",
    "### Google Colab\n",
    "\n",
    "[Google Colab](https://colab.research.google.com) (Colaboratory) servicio en línea gratuito, conectado con tu cuenta de Google\n",
    "\n",
    "En el siguente enlace hay más información al respecto [![Open In Colab](https://colab.research.google.com/assets/colab-badge.svg)](https://colab.research.google.com/notebooks/intro.ipynb)\n",
    "\n",
    "\n",
    "### Binder\n",
    "\n",
    "[Binder](https://mybinder.org) es un servicio gratuito que ejecuta Jupyter Notebooks en línea de.  \n",
    "\n",
    "El siguiente es un ejemplo de un Binder, puede tardar algunos minutos la construcción el ambiente [![Binder](https://mybinder.org/badge_logo.svg)](https://mybinder.org/v2/gh/rafneta/IntroduccionProbabilidad/master)\n",
    "\n",
    "\n"
   ]
  }
 ],
 "metadata": {
  "kernelspec": {
   "display_name": "Python 3 (ipykernel)",
   "language": "python",
   "name": "python3"
  },
  "language_info": {
   "codemirror_mode": {
    "name": "ipython",
    "version": 3
   },
   "file_extension": ".py",
   "mimetype": "text/x-python",
   "name": "python",
   "nbconvert_exporter": "python",
   "pygments_lexer": "ipython3",
   "version": "3.8.5"
  }
 },
 "nbformat": 4,
 "nbformat_minor": 5
}
