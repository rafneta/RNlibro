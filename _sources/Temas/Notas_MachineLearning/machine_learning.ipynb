{
 "cells": [
  {
   "cell_type": "markdown",
   "id": "8906d4f7-02c0-4e6d-a4c7-be91a640c781",
   "metadata": {},
   "source": [
    "![](https://raw.githubusercontent.com/rafneta/RNlibro/master/imagenes/banner.png)\n",
    "\n",
    "```{contents}\n",
    ":depth: 4\n",
    "```\n",
    "\n",
    "# Machine Learning\n",
    "\n",
    "\n",
    "\n",
    "> Alan Turing:  [\"Computing Machinery and Intelligence\"](https://www.csee.umbc.edu/courses/471/papers/turing.pdf) ¿Las máquinas pueden pensar? \n",
    "\n",
    "> \"Inteligencia Artificial: Es la ciencia y la ingeniería para fabricar máquinas inteligentes, especialmente programas informáticos inteligentes. Está relacionado con la tarea similar de usar computadoras para comprender la inteligencia humana, pero la IA no tiene que limitarse a métodos que son biológicamente observables. \"\n",
    "                                                                                          – Jhon MAcCarthy (2004) [WHAT IS ARTIFICIAL INTELLIGENCE?](https://homes.di.unimi.it/borghese/Teaching/AdvancedIntelligentSystems/Old/IntelligentSystems_2008_2009/Old/IntelligentSystems_2005_2006/Documents/Symbolic/04_McCarthy_whatisai.pdf)\n",
    "\n",
    "\n",
    "> \"Machine Learning: Campo de estudio que da a las computadoras la habilidad para aprender sin ser explicitamente programadas\"\n",
    "                                                                                               – Arthur L. Samuel (1959)  \n",
    "\n",
    "\n",
    "> \"El aprednizaje denota cambios en el sistema, estos son adaptables en el sentido que permiten al sistema realizar la misma tarea o tareas una y otra vez más eficiente para la misma población\"\n",
    "                                                                                         – Herbert Alexander Simon (1984)  \n",
    "\n",
    "\n",
    "> \"Un programa de computadora se dice que aprende de la experiencia E con respecto a alguna  clase de tareas T y una medida de desempeño P y mejora con la experiencia E\"\n",
    "                                                                                                      – Tom M. Mitchell (1998)\n",
    "\n",
    "\n",
    "\n",
    "\n",
    "\n",
    "![](https://i0.wp.com/smartboost.com/wp-content/uploads/2020/07/Deep-Learning-vs-Neural-Network.ai-06-2048x1152.png)\n",
    "Tomado de: _Deep Learning vs Neural Network: What’s the Difference?_ [](https://smartboost.com/blog/deep-learning-vs-neural-network/)"
   ]
  },
  {
   "cell_type": "markdown",
   "id": "2ddba276-d29d-40ea-95bf-a25e24deb813",
   "metadata": {},
   "source": [
    "## Ciencia de datos\n",
    "\n",
    "![](https://sitiobigdata.com/wp-content/uploads/2018/08/Los-tres-n%C3%BAcleos-de-Data-Science.png)\n",
    "Tomado de: [Los tres nucleos de Data Science](https://sitiobigdata.com/2018/08/27/los-tres-nucleos-de-data-science/#)\n",
    "\n",
    "\n",
    "![](https://pbs.twimg.com/media/DzAlXGBWwAAJjdz?format=jpg&name=large)\n",
    "Tomado del siguiente [twit](https://twitter.com/frederikbussler/status/1094415790349127680?lang=es)"
   ]
  },
  {
   "cell_type": "markdown",
   "id": "8c8a4ed7-ed88-4591-bab7-ec7fc650ce75",
   "metadata": {},
   "source": [
    "## Machine Learning\n",
    "\n",
    "![](https://balkantimes.press/wp-content/uploads/2021/05/mail-2-10.jpg)\n",
    "\n",
    "Tomado de [A taxonomy of machine learning and deep learning algorithms](https://balkantimes.press/en/artificial-intelligence-5-a-taxonomy-of-machine-learning-and-deep-learning-algorithms/)\n",
    "\n",
    "![](https://ars.els-cdn.com/content/image/1-s2.0-S157401372030071X-gr3.jpg)\n",
    "\n",
    "Tomado de [Julia language in machine learning: Algorithms, applications, and open issues](https://www.sciencedirect.com/science/article/pii/S157401372030071X)"
   ]
  },
  {
   "cell_type": "markdown",
   "id": "d16c277c-1021-44c7-814c-07857c396ecb",
   "metadata": {},
   "source": [
    "Otra definición de ML es la siguiente:\n",
    "\n",
    "> \"El machine learning es un método de análisis de datos que automatiza  la construcción de modelos analíticos. Es una rama de la inteligencia  artificial basada en la idea de que los sistemas pueden aprender de  datos, identificar patrones y tomar decisiones con mínima intervención  humana\"  [enlace](https://www.sas.com/es_mx/insights/analytics/machine-learning.html)\n",
    "\n",
    "Simplificando bastante esta definición, el ML es un conjunto de  algoritmos diseñados para resolver problemas con el uso de datos. Estos  problemas se pueden clasificar en tres grandes grupos:\n",
    "\n",
    "- **Aprendizaje supervisado.** Un modelo se ajusta  conociendo las entradas y las salidas asociadas. El objetivo es hacer  predicciones en presencia de incertidumbre. Este tipo de aprendizaje se  puede dividir en: \n",
    "\n",
    "  - **Clasificación.** Predecir respuestas discretas.\n",
    "  - **Regresión.** Predecir respuestas continuas.\n",
    "\n",
    "- **Aprendizaje no supervisado.** Encuentra patrones  intrínsecos en datos de entrada que no estan asociados a ninguna salida. Este tipo de aprendizaje se puede dividir en\n",
    "\n",
    "  - **Agrupación.** Agrupar los datos de acuerdo a sus características intrínsecas.\n",
    "  - **Reducción de dimensiones.** Reducir el número de características de los datos bajo algún criterio.\n",
    "\n",
    "- **Otros algoritmos de aprendizaje.** Destacan los algoritmos de Reinformcement Learning. Este tipo de algoritmos determinan qué acciones debe escoger un agente  de software en un entorno dado con el fin de maximizar alguna noción de  “recompensa” o premio acumulado."
   ]
  },
  {
   "cell_type": "markdown",
   "id": "30fb7fd8",
   "metadata": {},
   "source": [
    "## Flujo de trabajo\n",
    "\n",
    "Dependiendo del problema que se quiera resolver, hay un procedimiento genérico para abordarlo. Existen varias sugerencias y métodos para esto. Pienso que entre más sencillo se piense el procedimiento es mejor de entender, pero sin olvidar que una propuesta de solución se puede complicar de distintas formas.\n",
    "\n",
    "![](https://miro.medium.com/max/1400/1*bFZ1dIQ2ROifPt6YlyL6uA.png)\n",
    "\n",
    "Esto no es exclusivo de una área de la ciencia, es un enfoque retomado en distintos áreas (Diseño mecatrónico, telmática, Biónica, Administración, etc.)\n",
    "\n",
    "\n",
    "En este curso, nos interesa el **modelo** y la **evaluación**. Pero es bueno saber que existen otras fases (no sólo las que se pueden observar) en la imagen anterior. En ese sentido, se verán algunas herramientas de las fases que no son nuestro objetivo, pero sin porfundizar en los temas.\n",
    "\n",
    "Está información se encuentra en los Apéndices. \n",
    "\n",
    "\n"
   ]
  },
  {
   "cell_type": "code",
   "execution_count": null,
   "id": "ce4b0ecc-476d-48d2-b2fc-cb5d9bf994b7",
   "metadata": {},
   "outputs": [],
   "source": []
  }
 ],
 "metadata": {
  "kernelspec": {
   "display_name": "Python 3 (ipykernel)",
   "language": "python",
   "name": "python3"
  },
  "language_info": {
   "codemirror_mode": {
    "name": "ipython",
    "version": 3
   },
   "file_extension": ".py",
   "mimetype": "text/x-python",
   "name": "python",
   "nbconvert_exporter": "python",
   "pygments_lexer": "ipython3",
   "version": "3.8.5"
  },
  "toc-showcode": false,
  "toc-showmarkdowntxt": false,
  "toc-showtags": true
 },
 "nbformat": 4,
 "nbformat_minor": 5
}
