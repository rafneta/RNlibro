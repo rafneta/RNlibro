{
 "cells": [
  {
   "cell_type": "markdown",
   "id": "7091d4c4",
   "metadata": {},
   "source": [
    "![](https://raw.githubusercontent.com/rafneta/RNlibro/master/imagenes/banner.png)\n",
    "\n",
    "```{contents}\n",
    ":depth: 4\n",
    "```\n",
    "\n",
    "# Machine Learning\n",
    "\n",
    " > \"Machine Learning: Campo de estudio que da a las computadoras la habilidad para aprender sin ser explicitamente programadas\"\n",
    "                                                                            – Arthur L. Samuel (1959)  \n",
    "\n",
    "![](https://i0.wp.com/smartboost.com/wp-content/uploads/2020/07/Deep-Learning-vs-Neural-Network.ai-06-2048x1152.png)\n",
    "Tomado de: _Deep Learning vs Neural Network: What’s the Difference?_ [](https://smartboost.com/blog/deep-learning-vs-neural-network/)\n",
    "\n",
    "![](https://balkantimes.press/wp-content/uploads/2021/05/mail-2-10.jpg)\n",
    "Tomado de A taxonomy of machine learning and deep learning algorithms\n",
    "\n",
    "![](https://ars.els-cdn.com/content/image/1-s2.0-S157401372030071X-gr3.jpg)\n",
    "Tomado de Julia language in machine learning: Algorithms, applications, and open issues\n",
    "\n"
   ]
  },
  {
   "cell_type": "markdown",
   "id": "30fb7fd8",
   "metadata": {},
   "source": [
    "## Flujo de trabajo\n",
    "\n",
    "Dependiendo del problema que se quiera resolver, hay un procedimiento genérico para abordarlo. Existen varias sugerencias y métodos para esto. Pienso que entre más sencillo se piense el procedimiento es mejor de entender, pero sin olvidar que una propuesta de solución se puede complicar de distintas formas.\n",
    "\n",
    "![](https://miro.medium.com/max/1400/1*bFZ1dIQ2ROifPt6YlyL6uA.png)\n",
    "\n",
    "Esto no es exclusivo de una área de la ciencia, es un enfoque retomado en distintos áreas (Diseño mecatrónico, telmática, Biónica, Administración, etc.)\n",
    "\n",
    "\n",
    "En este curso, nos interesa el **modelo** y la **evaluación**. Pero es bueno saber que existen otras fases (no sólo las que se pueden observar) en la imagen anterior. En ese sentido, se verán algunas herramientas de las fases que no son nuestro objetivo, pero sin porfundizar en los temas.\n",
    "\n",
    "Está información se encuentra en los Apéndices. \n",
    "\n",
    "\n"
   ]
  },
  {
   "cell_type": "code",
   "execution_count": null,
   "id": "ce4b0ecc-476d-48d2-b2fc-cb5d9bf994b7",
   "metadata": {},
   "outputs": [],
   "source": []
  }
 ],
 "metadata": {
  "kernelspec": {
   "display_name": "Python 3 (ipykernel)",
   "language": "python",
   "name": "python3"
  },
  "language_info": {
   "codemirror_mode": {
    "name": "ipython",
    "version": 3
   },
   "file_extension": ".py",
   "mimetype": "text/x-python",
   "name": "python",
   "nbconvert_exporter": "python",
   "pygments_lexer": "ipython3",
   "version": "3.8.5"
  },
  "toc-showcode": false,
  "toc-showmarkdowntxt": false,
  "toc-showtags": true
 },
 "nbformat": 4,
 "nbformat_minor": 5
}
