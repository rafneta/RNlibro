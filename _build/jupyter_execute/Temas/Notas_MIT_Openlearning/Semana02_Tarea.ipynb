{
 "cells": [
  {
   "cell_type": "markdown",
   "id": "ca15a62b-2796-4a38-b545-c857d5cf1ada",
   "metadata": {},
   "source": [
    "# Tarea Semana 2 (MIT OLL)"
   ]
  },
  {
   "cell_type": "code",
   "execution_count": 2,
   "id": "698e7f1e-d561-4739-bed3-bb7e92e97a60",
   "metadata": {},
   "outputs": [],
   "source": [
    "import numpy as np"
   ]
  },
  {
   "cell_type": "code",
   "execution_count": 3,
   "id": "b40c5404-c7f6-4186-9b40-ebe59b9d5c10",
   "metadata": {},
   "outputs": [],
   "source": [
    "# funciones auxiliares\n",
    "\n",
    "def rv(value_list):\n",
    "    return np.array([value_list])\n",
    "\n",
    "def tp(A):\n",
    "    return np.transpose(A)\n",
    "\n",
    "def cv(value_list):\n",
    "    return tp(rv(value_list))"
   ]
  },
  {
   "cell_type": "code",
   "execution_count": 82,
   "id": "d597eadf-68ad-40f4-a43f-b83d4058b309",
   "metadata": {},
   "outputs": [],
   "source": [
    "def actualiza(theta,x,y,origen = True):\n",
    "    if origen:\n",
    "        if y * (theta.T @ x) <= 0:\n",
    "            return theta + y*x\n",
    "        else:\n",
    "            print(\"no es necesario actualizar\")\n",
    "            return theta\n",
    "\n",
    "def verifica(theta,X,Y,origen= True):\n",
    "    if origen:\n",
    "        return np.sign(theta.T @ X) == Y.T"
   ]
  },
  {
   "cell_type": "code",
   "execution_count": 83,
   "id": "a3267cef-f9b3-4f96-b9a3-67455822697a",
   "metadata": {},
   "outputs": [],
   "source": [
    "X = np.array([[1,-1],[0,1],[-1.5,-1]]).T\n",
    "Y = np.array([[1],[-1],[1]])"
   ]
  },
  {
   "cell_type": "code",
   "execution_count": 84,
   "id": "4759ce18-512e-4d67-a0bd-f3f8abca3ccc",
   "metadata": {},
   "outputs": [
    {
     "data": {
      "text/plain": [
       "array([[ 1.],\n",
       "       [-1.]])"
      ]
     },
     "execution_count": 84,
     "metadata": {},
     "output_type": "execute_result"
    }
   ],
   "source": [
    "# COmenzar con X_1\n",
    "\n",
    "x = X[:,0:1]\n",
    "theta = cv([0,0])\n",
    "y = Y[0,0]\n",
    "theta = actualiza(theta,x,y)\n",
    "theta"
   ]
  },
  {
   "cell_type": "code",
   "execution_count": 85,
   "id": "8d6a5ff1-5f6f-4a7c-98b1-6a5b36fdd011",
   "metadata": {},
   "outputs": [
    {
     "data": {
      "text/plain": [
       "array([[ True,  True, False]])"
      ]
     },
     "execution_count": 85,
     "metadata": {},
     "output_type": "execute_result"
    }
   ],
   "source": [
    "verifica(theta,X,Y)"
   ]
  },
  {
   "cell_type": "code",
   "execution_count": 86,
   "id": "cc15abd4-76d2-4f0a-948c-facf53b0f254",
   "metadata": {},
   "outputs": [
    {
     "name": "stdout",
     "output_type": "stream",
     "text": [
      "no es necesario actualizar\n"
     ]
    }
   ],
   "source": [
    "x = X[:,1:2]\n",
    "y = Y[1,0]\n",
    "theta = actualiza(theta,x,y)"
   ]
  },
  {
   "cell_type": "code",
   "execution_count": 87,
   "id": "25ea6dd1-07df-4ab4-b353-340183206f66",
   "metadata": {},
   "outputs": [
    {
     "data": {
      "text/plain": [
       "array([[ True,  True, False]])"
      ]
     },
     "execution_count": 87,
     "metadata": {},
     "output_type": "execute_result"
    }
   ],
   "source": [
    "verifica(theta,X,Y)"
   ]
  },
  {
   "cell_type": "code",
   "execution_count": 88,
   "id": "e33287e2-f299-452a-a91a-4e62c7453e0e",
   "metadata": {},
   "outputs": [],
   "source": [
    "x = X[:,2:3]\n",
    "y = Y[2,0]\n",
    "theta = actualiza(theta,x,y)"
   ]
  },
  {
   "cell_type": "code",
   "execution_count": 89,
   "id": "05135183-bd1d-4e6d-aeec-4f309cc51fd1",
   "metadata": {},
   "outputs": [
    {
     "data": {
      "text/plain": [
       "array([[-0.5],\n",
       "       [-2. ]])"
      ]
     },
     "execution_count": 89,
     "metadata": {},
     "output_type": "execute_result"
    }
   ],
   "source": [
    "theta"
   ]
  },
  {
   "cell_type": "code",
   "execution_count": 90,
   "id": "abaccdc4-f378-44ae-9233-9840eb78b231",
   "metadata": {},
   "outputs": [
    {
     "data": {
      "text/plain": [
       "array([[ True,  True,  True]])"
      ]
     },
     "execution_count": 90,
     "metadata": {},
     "output_type": "execute_result"
    }
   ],
   "source": [
    "verifica(theta,X,Y)"
   ]
  },
  {
   "cell_type": "code",
   "execution_count": 93,
   "id": "6f07f39f-dd85-490d-97e5-8b0edfb9ab43",
   "metadata": {},
   "outputs": [
    {
     "data": {
      "text/plain": [
       "array([[ 0.],\n",
       "       [-1.]])"
      ]
     },
     "execution_count": 93,
     "metadata": {},
     "output_type": "execute_result"
    }
   ],
   "source": [
    "# COmenzar con x^2\n",
    "\n",
    "x = X[:,1:2]\n",
    "y = Y[1,0]\n",
    "theta = cv([0,0])\n",
    "theta = actualiza(theta,x,y)\n",
    "theta"
   ]
  },
  {
   "cell_type": "code",
   "execution_count": 94,
   "id": "8ce651d6-2968-4789-a73c-13566b47b782",
   "metadata": {},
   "outputs": [
    {
     "data": {
      "text/plain": [
       "array([[ True,  True,  True]])"
      ]
     },
     "execution_count": 94,
     "metadata": {},
     "output_type": "execute_result"
    }
   ],
   "source": [
    "verifica(theta,X,Y)"
   ]
  },
  {
   "cell_type": "markdown",
   "id": "b76b965e-12f3-48c4-822a-a1b558738aa5",
   "metadata": {},
   "source": [
    "## 1.2a)"
   ]
  },
  {
   "cell_type": "code",
   "execution_count": 95,
   "id": "525213fa-c639-4557-9bf1-79ee170d21d9",
   "metadata": {},
   "outputs": [],
   "source": [
    "# 1.2a)\n",
    "X = np.array([[1,-1],[0,1],[-10,-1]]).T\n",
    "Y = np.array([[1],[-1],[1]])\n"
   ]
  },
  {
   "cell_type": "code",
   "execution_count": 96,
   "id": "3b6950b4-af9f-4d65-909f-fa6abf37474b",
   "metadata": {},
   "outputs": [
    {
     "data": {
      "text/plain": [
       "array([[ 1],\n",
       "       [-1]])"
      ]
     },
     "execution_count": 96,
     "metadata": {},
     "output_type": "execute_result"
    }
   ],
   "source": [
    "# COmenzar con X_1\n",
    "\n",
    "x = X[:,0:1]\n",
    "theta = cv([0,0])\n",
    "y = Y[0,0]\n",
    "theta = actualiza(theta,x,y)\n",
    "theta"
   ]
  },
  {
   "cell_type": "code",
   "execution_count": 97,
   "id": "90c7ce2c-4bdb-4ebe-8442-130045a770c1",
   "metadata": {},
   "outputs": [
    {
     "data": {
      "text/plain": [
       "array([[ True,  True, False]])"
      ]
     },
     "execution_count": 97,
     "metadata": {},
     "output_type": "execute_result"
    }
   ],
   "source": [
    "verifica(theta,X,Y)"
   ]
  },
  {
   "cell_type": "code",
   "execution_count": 98,
   "id": "151112bd-033e-48bb-8132-70ff60a89b75",
   "metadata": {},
   "outputs": [
    {
     "name": "stdout",
     "output_type": "stream",
     "text": [
      "no es necesario actualizar\n"
     ]
    },
    {
     "data": {
      "text/plain": [
       "array([[ 1],\n",
       "       [-1]])"
      ]
     },
     "execution_count": 98,
     "metadata": {},
     "output_type": "execute_result"
    }
   ],
   "source": [
    "x = X[:,1:2]\n",
    "y = Y[1,0]\n",
    "theta = actualiza(theta,x,y)\n",
    "theta"
   ]
  },
  {
   "cell_type": "code",
   "execution_count": 99,
   "id": "d32eb59f-4dab-47ba-be21-9bae769aac33",
   "metadata": {},
   "outputs": [
    {
     "data": {
      "text/plain": [
       "array([[-9],\n",
       "       [-2]])"
      ]
     },
     "execution_count": 99,
     "metadata": {},
     "output_type": "execute_result"
    }
   ],
   "source": [
    "x = X[:,2:3]\n",
    "y = Y[2,0]\n",
    "theta = actualiza(theta,x,y)\n",
    "theta"
   ]
  },
  {
   "cell_type": "code",
   "execution_count": 100,
   "id": "f921f699-8cac-46d4-82f1-60a197a5565b",
   "metadata": {},
   "outputs": [
    {
     "data": {
      "text/plain": [
       "array([[False,  True,  True]])"
      ]
     },
     "execution_count": 100,
     "metadata": {},
     "output_type": "execute_result"
    }
   ],
   "source": [
    "verifica(theta,X,Y)"
   ]
  },
  {
   "cell_type": "code",
   "execution_count": 101,
   "id": "bfe946ad-dc76-4e5e-bbff-9e7f5b8b86e1",
   "metadata": {},
   "outputs": [
    {
     "data": {
      "text/plain": [
       "array([[-8],\n",
       "       [-3]])"
      ]
     },
     "execution_count": 101,
     "metadata": {},
     "output_type": "execute_result"
    }
   ],
   "source": [
    "x = X[:,0:1]\n",
    "y = Y[0,0]\n",
    "theta = actualiza(theta,x,y)\n",
    "theta"
   ]
  },
  {
   "cell_type": "code",
   "execution_count": 102,
   "id": "55ba65de-22b3-42a0-a817-4752a82bbf04",
   "metadata": {},
   "outputs": [
    {
     "data": {
      "text/plain": [
       "array([[False,  True,  True]])"
      ]
     },
     "execution_count": 102,
     "metadata": {},
     "output_type": "execute_result"
    }
   ],
   "source": [
    "verifica(theta,X,Y)"
   ]
  },
  {
   "cell_type": "code",
   "execution_count": 103,
   "id": "cfa82a6f-9e97-4cac-8b16-47d272bd067a",
   "metadata": {},
   "outputs": [
    {
     "name": "stdout",
     "output_type": "stream",
     "text": [
      "no es necesario actualizar\n"
     ]
    },
    {
     "data": {
      "text/plain": [
       "array([[-8],\n",
       "       [-3]])"
      ]
     },
     "execution_count": 103,
     "metadata": {},
     "output_type": "execute_result"
    }
   ],
   "source": [
    "x = X[:,1:2]\n",
    "y = Y[1,0]\n",
    "theta = actualiza(theta,x,y)\n",
    "theta"
   ]
  },
  {
   "cell_type": "code",
   "execution_count": 104,
   "id": "92c33dd0-0dc4-4d8b-8878-d9aa4fba98e0",
   "metadata": {},
   "outputs": [
    {
     "name": "stdout",
     "output_type": "stream",
     "text": [
      "no es necesario actualizar\n"
     ]
    },
    {
     "data": {
      "text/plain": [
       "array([[-8],\n",
       "       [-3]])"
      ]
     },
     "execution_count": 104,
     "metadata": {},
     "output_type": "execute_result"
    }
   ],
   "source": [
    "x = X[:,2:3]\n",
    "y = Y[2,0]\n",
    "theta = actualiza(theta,x,y)\n",
    "theta"
   ]
  },
  {
   "cell_type": "code",
   "execution_count": 105,
   "id": "b527a897-ff97-405e-bd82-168d73285289",
   "metadata": {},
   "outputs": [
    {
     "data": {
      "text/plain": [
       "array([[-7],\n",
       "       [-4]])"
      ]
     },
     "execution_count": 105,
     "metadata": {},
     "output_type": "execute_result"
    }
   ],
   "source": [
    "x = X[:,0:1]\n",
    "y = Y[0,0]\n",
    "theta = actualiza(theta,x,y)\n",
    "theta"
   ]
  },
  {
   "cell_type": "code",
   "execution_count": 106,
   "id": "e98e1e80-7a60-4752-ab43-5c99b88e5434",
   "metadata": {},
   "outputs": [
    {
     "data": {
      "text/plain": [
       "array([[False,  True,  True]])"
      ]
     },
     "execution_count": 106,
     "metadata": {},
     "output_type": "execute_result"
    }
   ],
   "source": [
    "verifica(theta,X,Y)"
   ]
  },
  {
   "cell_type": "code",
   "execution_count": 107,
   "id": "b8097276-5390-4b7d-b6a0-2bfaa75d8ed8",
   "metadata": {},
   "outputs": [
    {
     "name": "stdout",
     "output_type": "stream",
     "text": [
      "no es necesario actualizar\n"
     ]
    },
    {
     "data": {
      "text/plain": [
       "array([[-7],\n",
       "       [-4]])"
      ]
     },
     "execution_count": 107,
     "metadata": {},
     "output_type": "execute_result"
    }
   ],
   "source": [
    "x = X[:,1:2]\n",
    "y = Y[1,0]\n",
    "theta = actualiza(theta,x,y)\n",
    "theta"
   ]
  },
  {
   "cell_type": "code",
   "execution_count": 108,
   "id": "79dc5d0b-a76b-4f8a-93ed-757f54a2a901",
   "metadata": {},
   "outputs": [
    {
     "name": "stdout",
     "output_type": "stream",
     "text": [
      "no es necesario actualizar\n"
     ]
    },
    {
     "data": {
      "text/plain": [
       "array([[-7],\n",
       "       [-4]])"
      ]
     },
     "execution_count": 108,
     "metadata": {},
     "output_type": "execute_result"
    }
   ],
   "source": [
    "x = X[:,2:3]\n",
    "y = Y[2,0]\n",
    "theta = actualiza(theta,x,y)\n",
    "theta"
   ]
  },
  {
   "cell_type": "code",
   "execution_count": 109,
   "id": "b72641c4-a115-4682-a28e-635a01735ffc",
   "metadata": {},
   "outputs": [
    {
     "data": {
      "text/plain": [
       "array([[-6],\n",
       "       [-5]])"
      ]
     },
     "execution_count": 109,
     "metadata": {},
     "output_type": "execute_result"
    }
   ],
   "source": [
    "x = X[:,0:1]\n",
    "y = Y[0,0]\n",
    "theta = actualiza(theta,x,y)\n",
    "theta"
   ]
  },
  {
   "cell_type": "code",
   "execution_count": 110,
   "id": "23496f84-8e32-4320-bdd4-19756b8c5b53",
   "metadata": {},
   "outputs": [
    {
     "data": {
      "text/plain": [
       "array([[False,  True,  True]])"
      ]
     },
     "execution_count": 110,
     "metadata": {},
     "output_type": "execute_result"
    }
   ],
   "source": [
    "verifica(theta,X,Y)"
   ]
  },
  {
   "cell_type": "code",
   "execution_count": 111,
   "id": "67c0df2b-1a0a-43da-b4b5-fde7fa7a57cf",
   "metadata": {},
   "outputs": [
    {
     "name": "stdout",
     "output_type": "stream",
     "text": [
      "no es necesario actualizar\n"
     ]
    },
    {
     "data": {
      "text/plain": [
       "array([[-6],\n",
       "       [-5]])"
      ]
     },
     "execution_count": 111,
     "metadata": {},
     "output_type": "execute_result"
    }
   ],
   "source": [
    "x = X[:,1:2]\n",
    "y = Y[1,0]\n",
    "theta = actualiza(theta,x,y)\n",
    "theta"
   ]
  },
  {
   "cell_type": "code",
   "execution_count": 112,
   "id": "8c7e2eea-e7eb-4ccd-996f-b6df9fa26203",
   "metadata": {},
   "outputs": [
    {
     "name": "stdout",
     "output_type": "stream",
     "text": [
      "no es necesario actualizar\n"
     ]
    },
    {
     "data": {
      "text/plain": [
       "array([[-6],\n",
       "       [-5]])"
      ]
     },
     "execution_count": 112,
     "metadata": {},
     "output_type": "execute_result"
    }
   ],
   "source": [
    "x = X[:,2:3]\n",
    "y = Y[2,0]\n",
    "theta = actualiza(theta,x,y)\n",
    "theta"
   ]
  },
  {
   "cell_type": "code",
   "execution_count": 113,
   "id": "33847efc-9f47-47ef-832d-cc1fe2825ca1",
   "metadata": {},
   "outputs": [
    {
     "data": {
      "text/plain": [
       "array([[-5],\n",
       "       [-6]])"
      ]
     },
     "execution_count": 113,
     "metadata": {},
     "output_type": "execute_result"
    }
   ],
   "source": [
    "x = X[:,0:1]\n",
    "y = Y[0,0]\n",
    "theta = actualiza(theta,x,y)\n",
    "theta"
   ]
  },
  {
   "cell_type": "code",
   "execution_count": 114,
   "id": "b9623427-4222-4599-b44b-7302fc318221",
   "metadata": {},
   "outputs": [
    {
     "data": {
      "text/plain": [
       "array([[ True,  True,  True]])"
      ]
     },
     "execution_count": 114,
     "metadata": {},
     "output_type": "execute_result"
    }
   ],
   "source": [
    "verifica(theta,X,Y)"
   ]
  },
  {
   "cell_type": "markdown",
   "id": "388d0ff5-a071-4ead-a748-c303ef3913bb",
   "metadata": {},
   "source": [
    "## Problemas 7 a 10 \n",
    "\n",
    "Los problemas 7 a 10 [son programas en colab](https://colab.research.google.com/drive/1kIWGi2TEZ0Agd_qQt1KiD2uZw_5AJFHT)\n",
    "\n"
   ]
  },
  {
   "cell_type": "code",
   "execution_count": null,
   "id": "bf319074-05cc-483b-847c-2057555bcffd",
   "metadata": {},
   "outputs": [],
   "source": []
  }
 ],
 "metadata": {
  "kernelspec": {
   "display_name": "Python 3 (ipykernel)",
   "language": "python",
   "name": "python3"
  },
  "language_info": {
   "codemirror_mode": {
    "name": "ipython",
    "version": 3
   },
   "file_extension": ".py",
   "mimetype": "text/x-python",
   "name": "python",
   "nbconvert_exporter": "python",
   "pygments_lexer": "ipython3",
   "version": "3.8.5"
  }
 },
 "nbformat": 4,
 "nbformat_minor": 5
}