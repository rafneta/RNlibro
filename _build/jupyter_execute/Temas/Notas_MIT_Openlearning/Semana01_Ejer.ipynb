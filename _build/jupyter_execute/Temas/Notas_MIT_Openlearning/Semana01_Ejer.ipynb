{
 "cells": [
  {
   "cell_type": "markdown",
   "id": "8a4d3cca-8f44-46e3-a875-d59f33e6b8c0",
   "metadata": {},
   "source": [
    "# Ejercicios semana 1 (MIT OLL)\n",
    "\n",
    "## 2) Introducción a Numpy\n",
    "\n",
    "- `np.array`\n",
    "\n",
    "- np.transpose\n",
    "\n",
    "- np.ndarray.shape\n",
    "\n",
    "- np.dot\n",
    "\n",
    "- np.sign\n",
    "\n",
    "- np.sum\n",
    "\n",
    "- Operaciones aritméticas +,-,*,/\n",
    "\n",
    "\n"
   ]
  },
  {
   "cell_type": "code",
   "execution_count": 1,
   "id": "084e31da-49dc-40ca-ad75-0ed0b0d88646",
   "metadata": {},
   "outputs": [],
   "source": [
    "import numpy as np"
   ]
  },
  {
   "cell_type": "markdown",
   "id": "191df9f4-9d58-4693-92b7-d9391ca799a6",
   "metadata": {},
   "source": [
    "### 2.1) Arreglo"
   ]
  },
  {
   "cell_type": "code",
   "execution_count": 2,
   "id": "a862d23b-95a9-4668-bfae-e2df40852997",
   "metadata": {},
   "outputs": [
    {
     "data": {
      "text/plain": [
       "array([[ 1. ,  2.4,  5. ],\n",
       "       [-1.8,  9. ,  2. ]])"
      ]
     },
     "execution_count": 2,
     "metadata": {},
     "output_type": "execute_result"
    }
   ],
   "source": [
    "A = np.array([[1,2.4,5],[-1.8,9,2]])\n",
    "A"
   ]
  },
  {
   "cell_type": "code",
   "execution_count": 3,
   "id": "b9cb5d38-2d2e-4627-a0cb-dea5e0f49b55",
   "metadata": {},
   "outputs": [
    {
     "data": {
      "text/plain": [
       "(2, 3)"
      ]
     },
     "execution_count": 3,
     "metadata": {},
     "output_type": "execute_result"
    }
   ],
   "source": [
    "A.shape"
   ]
  },
  {
   "cell_type": "markdown",
   "id": "574a464c-25af-4faa-a3de-d6f281a3e566",
   "metadata": {},
   "source": [
    "### 2.2) Transpuesta"
   ]
  },
  {
   "cell_type": "code",
   "execution_count": 17,
   "id": "54f5e6b7-ca0f-49f8-afd8-e2bf4718f20a",
   "metadata": {},
   "outputs": [
    {
     "data": {
      "text/plain": [
       "array([[ 1. , -1.8],\n",
       "       [ 2.4,  9. ],\n",
       "       [ 5. ,  2. ]])"
      ]
     },
     "execution_count": 17,
     "metadata": {},
     "output_type": "execute_result"
    }
   ],
   "source": [
    "def tp(A):\n",
    "    return np.transpose(A)\n",
    "\n",
    "def tp1(A):\n",
    "    return (np.transpose(A),A.T)\n",
    "\n",
    "a, b = tp1(A)\n",
    "a\n",
    "b"
   ]
  },
  {
   "cell_type": "markdown",
   "id": "0c0162c5-8f6c-45f1-b42c-da181ecb0eca",
   "metadata": {},
   "source": [
    "### 2.4)"
   ]
  },
  {
   "cell_type": "code",
   "execution_count": 16,
   "id": "93b3edd8-febf-4142-ae3e-ec66f6d3d38a",
   "metadata": {},
   "outputs": [
    {
     "data": {
      "text/plain": [
       "(1, 3)"
      ]
     },
     "execution_count": 16,
     "metadata": {},
     "output_type": "execute_result"
    }
   ],
   "source": [
    "def rv(value_list):\n",
    "    return np.array([value_list])\n",
    "\n",
    "a = rv([1,2,3])\n",
    "a.shape"
   ]
  },
  {
   "cell_type": "markdown",
   "id": "5da78a7f-cc28-4e9a-911d-a37bed8caf18",
   "metadata": {},
   "source": [
    "### 2.5)"
   ]
  },
  {
   "cell_type": "code",
   "execution_count": 19,
   "id": "ce1062f3-2859-4fce-8ee5-85cd020851e0",
   "metadata": {},
   "outputs": [
    {
     "data": {
      "text/plain": [
       "array([[1],\n",
       "       [2],\n",
       "       [3],\n",
       "       [4],\n",
       "       [5],\n",
       "       [6],\n",
       "       [7],\n",
       "       [8]])"
      ]
     },
     "execution_count": 19,
     "metadata": {},
     "output_type": "execute_result"
    }
   ],
   "source": [
    "def cv(value_list):\n",
    "    return tp(rv(value_list))\n",
    "\n",
    "cv([1,2,3,4,5,6,7,8])"
   ]
  },
  {
   "cell_type": "markdown",
   "id": "7d5f7047-7b49-4e74-b1b3-4d9874c7e6cc",
   "metadata": {},
   "source": [
    "### 2.6)"
   ]
  },
  {
   "cell_type": "code",
   "execution_count": 20,
   "id": "43b6de15-4b01-4c82-9862-dc73ce8a9406",
   "metadata": {},
   "outputs": [
    {
     "data": {
      "text/plain": [
       "5.0"
      ]
     },
     "execution_count": 20,
     "metadata": {},
     "output_type": "execute_result"
    }
   ],
   "source": [
    "def length(col_v):\n",
    "    v2 = col_v * col_v\n",
    "    v2_s = np.sum(v2)\n",
    "    norm = v2_s ** 0.5\n",
    "    return norm\n",
    "\n",
    "length(cv([3,4]))"
   ]
  },
  {
   "cell_type": "markdown",
   "id": "0ba8e253-23a4-4001-9aa6-c358c28ac68e",
   "metadata": {},
   "source": [
    "### 2.7) "
   ]
  },
  {
   "cell_type": "code",
   "execution_count": 21,
   "id": "ee4100ec-29e9-4433-9619-34ac3b7f36f8",
   "metadata": {},
   "outputs": [
    {
     "data": {
      "text/plain": [
       "array([[0.6],\n",
       "       [0.8]])"
      ]
     },
     "execution_count": 21,
     "metadata": {},
     "output_type": "execute_result"
    }
   ],
   "source": [
    "def normalize(col_v):\n",
    "    norm = length(col_v)\n",
    "    col_v_u = (1/norm) * col_v \n",
    "    return col_v_u\n",
    "\n",
    "normalize(cv([3,4]))"
   ]
  },
  {
   "cell_type": "code",
   "execution_count": 22,
   "id": "b814e1fb-d63b-4d63-ab34-f2e1b95a302c",
   "metadata": {},
   "outputs": [
    {
     "data": {
      "text/plain": [
       "1.0"
      ]
     },
     "execution_count": 22,
     "metadata": {},
     "output_type": "execute_result"
    }
   ],
   "source": [
    "a = normalize(cv([3,4]))\n",
    "\n",
    "length(a)"
   ]
  },
  {
   "cell_type": "code",
   "execution_count": null,
   "id": "6c0cb1d9-3f73-4982-b1fa-26d184b6b2ec",
   "metadata": {},
   "outputs": [],
   "source": []
  }
 ],
 "metadata": {
  "kernelspec": {
   "display_name": "Python 3 (ipykernel)",
   "language": "python",
   "name": "python3"
  },
  "language_info": {
   "codemirror_mode": {
    "name": "ipython",
    "version": 3
   },
   "file_extension": ".py",
   "mimetype": "text/x-python",
   "name": "python",
   "nbconvert_exporter": "python",
   "pygments_lexer": "ipython3",
   "version": "3.8.5"
  }
 },
 "nbformat": 4,
 "nbformat_minor": 5
}