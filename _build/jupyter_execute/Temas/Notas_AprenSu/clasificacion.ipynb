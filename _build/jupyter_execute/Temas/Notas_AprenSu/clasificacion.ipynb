{
 "cells": [
  {
   "cell_type": "markdown",
   "id": "e6b84b3a-5c4c-46fa-9cef-c68687fe3189",
   "metadata": {},
   "source": [
    "![](https://raw.githubusercontent.com/rafneta/RNlibro/master/imagenes/banner.png)\n",
    "\n",
    "```{contents}\n",
    ":depth: 4\n",
    "```\n",
    "\n",
    "# Clasificación\n",
    "\n",
    "\n",
    "\n"
   ]
  },
  {
   "cell_type": "code",
   "execution_count": null,
   "id": "a4036160-5e16-4e08-83b2-8e3a7d8cf239",
   "metadata": {},
   "outputs": [],
   "source": []
  }
 ],
 "metadata": {
  "kernelspec": {
   "display_name": "Python 3 (ipykernel)",
   "language": "python",
   "name": "python3"
  },
  "language_info": {
   "codemirror_mode": {
    "name": "ipython",
    "version": 3
   },
   "file_extension": ".py",
   "mimetype": "text/x-python",
   "name": "python",
   "nbconvert_exporter": "python",
   "pygments_lexer": "ipython3",
   "version": "3.8.5"
  }
 },
 "nbformat": 4,
 "nbformat_minor": 5
}