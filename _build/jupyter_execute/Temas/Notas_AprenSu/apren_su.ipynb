{
 "cells": [
  {
   "cell_type": "markdown",
   "id": "e6b84b3a-5c4c-46fa-9cef-c68687fe3189",
   "metadata": {},
   "source": [
    "![](https://raw.githubusercontent.com/rafneta/RNlibro/master/imagenes/banner.png)\n",
    "\n",
    "```{contents}\n",
    ":depth: 4\n",
    "```\n",
    "\n",
    "# Aprendizaje supervisado\n",
    "\n",
    "Se ha cojmentado en clase, de que va el aprendizaje supervisado. Se tiene\n",
    "un conjunto de datos etiquetados ($(x_i,y_i)$, con $x_i\\in X$ y $y_i\\in Y$), y se quiere encontrar una forma de automatizar la asignación  $x_i\\rightarrow y_i$. Si el conjunto $Y$ es discreto, hablamos de un problema de **clasificación**. Si el conjunto $Y$ es continuo, hablamos de un problema de **regresión**"
   ]
  },
  {
   "cell_type": "code",
   "execution_count": null,
   "id": "a4036160-5e16-4e08-83b2-8e3a7d8cf239",
   "metadata": {},
   "outputs": [],
   "source": []
  }
 ],
 "metadata": {
  "kernelspec": {
   "display_name": "Python 3 (ipykernel)",
   "language": "python",
   "name": "python3"
  },
  "language_info": {
   "codemirror_mode": {
    "name": "ipython",
    "version": 3
   },
   "file_extension": ".py",
   "mimetype": "text/x-python",
   "name": "python",
   "nbconvert_exporter": "python",
   "pygments_lexer": "ipython3",
   "version": "3.8.5"
  }
 },
 "nbformat": 4,
 "nbformat_minor": 5
}