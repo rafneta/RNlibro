{
 "cells": [
  {
   "cell_type": "markdown",
   "id": "f03672d0",
   "metadata": {},
   "source": [
    "![](https://raw.githubusercontent.com/rafneta/RNlibro/master/imagenes/banner.png)\n",
    "\n",
    "```{contents}\n",
    ":depth: 4\n",
    "```\n",
    "\n",
    "# Visualización de datos\n",
    "\n",
    "- Explorar \n",
    "- Comunicar\n",
    "\n",
    "![](https://www.qlik.com/blog/assets/uploads/images/posts/patrik-lundblad/goodchart-xlarge-1200x630.jpg)\n",
    "\n",
    "## Kaggle\n",
    "\n",
    "- [Página de Kaggle](https://www.kaggle.com/)\n",
    "\n",
    "- Notebooks como en colab (Python y R)\n",
    "\n",
    "- Repositorio de datos\n",
    "\n",
    "- Códigos\n",
    "\n",
    "- GPU (Unidades de procesamiento de gráficos (GPUs) de alto rendimiento para el aprendizaje automático, la computación científica y la visualización en 3D.)\n",
    "\n",
    "- Alberga competiciones de aprendizaje automático. Ofrecen premios a las soluciones ganadoras. \n",
    "\n",
    "- La plataforma ayuda a los usuarios a interactuar a través de foros\n",
    "\n"
   ]
  },
  {
   "cell_type": "code",
   "execution_count": 1,
   "id": "01c9984f-4ddb-4358-b878-2b9dd2df9fd7",
   "metadata": {},
   "outputs": [],
   "source": [
    "from IPython.display import HTML"
   ]
  },
  {
   "cell_type": "code",
   "execution_count": 8,
   "id": "1da9c353-42ff-4dd1-b748-136a436c5ea7",
   "metadata": {},
   "outputs": [
    {
     "data": {
      "text/html": [
       "<iframe width=\"90%\"  height=\"500\" src=\"https://www.youtube.com/embed/TNzDMOg_zsw\" title=\"YouTube video player\" frameborder=\"0\" allow=\"accelerometer; autoplay; clipboard-write; encrypted-media; gyroscope; picture-in-picture\" allowfullscreen></iframe>"
      ],
      "text/plain": [
       "<IPython.core.display.HTML object>"
      ]
     },
     "execution_count": 8,
     "metadata": {},
     "output_type": "execute_result"
    }
   ],
   "source": [
    "HTML('<iframe width=\"90%\"  height=\"500\" src=\"https://www.youtube.com/embed/TNzDMOg_zsw\" title=\"YouTube video player\" frameborder=\"0\" allow=\"accelerometer; autoplay; clipboard-write; encrypted-media; gyroscope; picture-in-picture\" allowfullscreen></iframe>')\n"
   ]
  },
  {
   "cell_type": "markdown",
   "id": "a4a07b03-de0e-4bc3-bff7-1d8a1e7d2e0c",
   "metadata": {},
   "source": [
    "## Visualización datos \n",
    "\n",
    "\n",
    "\n",
    "Vamos a leer aalgunos datos de Kaggle, y utilizaremos algunas herramientas del módulo [seaborn](https://seaborn.pydata.org/) para visualizar estos datos. \n",
    "\n",
    "\n",
    "Ejecutamos esto en la nube de colab [Visualización con seaborn](https://colab.research.google.com/drive/1eGKqjSxIY7YL6-8E5AQP_VlQPOQjoVBO?usp=sharing)\n",
    "\n",
    "Lo anterior es un extracto del curso [Data Visualization](https://www.kaggle.com/learn/data-visualization) de Kaggle\n",
    "\n"
   ]
  },
  {
   "cell_type": "code",
   "execution_count": null,
   "id": "8757fe46-b79e-442c-be3d-ca05ada19ac1",
   "metadata": {},
   "outputs": [],
   "source": []
  },
  {
   "cell_type": "markdown",
   "id": "5f38c5b4",
   "metadata": {},
   "source": [
    "\n",
    "```{toctree}\n",
    ":hidden:\n",
    ":titlesonly:\n",
    "\n",
    "\n",
    "visualizacionplotly\n",
    "Tableros\n",
    "```\n"
   ]
  }
 ],
 "metadata": {
  "kernelspec": {
   "display_name": "Python 3 (ipykernel)",
   "language": "python",
   "name": "python3"
  },
  "language_info": {
   "codemirror_mode": {
    "name": "ipython",
    "version": 3
   },
   "file_extension": ".py",
   "mimetype": "text/x-python",
   "name": "python",
   "nbconvert_exporter": "python",
   "pygments_lexer": "ipython3",
   "version": "3.8.5"
  },
  "toc-showcode": false,
  "toc-showmarkdowntxt": false,
  "toc-showtags": true
 },
 "nbformat": 4,
 "nbformat_minor": 5
}