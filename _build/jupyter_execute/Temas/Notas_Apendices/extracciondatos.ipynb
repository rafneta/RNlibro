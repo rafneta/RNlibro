{
 "cells": [
  {
   "cell_type": "markdown",
   "id": "f03672d0",
   "metadata": {},
   "source": [
    "![](https://raw.githubusercontent.com/rafneta/RNlibro/master/imagenes/banner.png)\n",
    "\n",
    "```{contents}\n",
    ":depth: 4\n",
    "```\n",
    "\n",
    "# Extracción de datos\n",
    "\n",
    "Con _pandas_ reaizamos una adquisición de datos de un archivo que directamente estaba disposible en la web. Los datos pueden estar en diferentes fuentes\n",
    "\n",
    "- archivos locales manipulables (xls, csv, tsv, dta, docs, txt, etc.)\n",
    "- archivos remotos manipulables (url de repositorios) \n",
    "- Acceso mediante una API (Application Programming Interface, kaggle, etc.)\n",
    "- En páginas web (Web Scraping)\n",
    "- archivos no manipulables (por ejemplo: pdf)\n",
    "- Bases de datos\n",
    "\n",
    "En particular, se tomará un ejemplo sencillo de Web Scraping, para lo cual se hablará un poco sobre expresiones regulares, para ello es necesario tener instalado los modulos _re_, _request_, y _beautifulsoup4_. El módulo _re_ es estándar\n",
    "\n",
    "    pip install requests\n",
    "    conda install -c anaconda requests \n",
    "    pip install beautifulsoup4\n",
    "    conda install -c anaconda beautifulsoup4\n",
    "\n",
    "Como ejemplo adicional se puede revisar\n",
    "\n",
    "- [Lectura de pdf](https://www.youtube.com/watch?v=s8XjEuplx_U&t=3229s)\n",
    "\n"
   ]
  },
  {
   "cell_type": "code",
   "execution_count": null,
   "id": "f39bd4f6-839b-4797-ba4a-fae73b475e20",
   "metadata": {},
   "outputs": [],
   "source": []
  },
  {
   "cell_type": "markdown",
   "id": "5ce1763f",
   "metadata": {},
   "source": [
    "\n",
    "```{toctree}\n",
    ":hidden:\n",
    ":titlesonly:\n",
    "\n",
    "\n",
    "ExpresionesRegulares\n",
    "Scraping\n",
    "```\n"
   ]
  }
 ],
 "metadata": {
  "kernelspec": {
   "display_name": "Python 3 (ipykernel)",
   "language": "python",
   "name": "python3"
  },
  "language_info": {
   "codemirror_mode": {
    "name": "ipython",
    "version": 3
   },
   "file_extension": ".py",
   "mimetype": "text/x-python",
   "name": "python",
   "nbconvert_exporter": "python",
   "pygments_lexer": "ipython3",
   "version": "3.8.5"
  },
  "toc-showcode": false,
  "toc-showmarkdowntxt": false,
  "toc-showtags": true
 },
 "nbformat": 4,
 "nbformat_minor": 5
}