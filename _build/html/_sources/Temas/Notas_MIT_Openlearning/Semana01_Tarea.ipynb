{
 "cells": [
  {
   "cell_type": "markdown",
   "id": "466a4695-9c2e-4fdb-9713-a56c667b27ae",
   "metadata": {},
   "source": [
    "# Tarea Semana 1 (MIT OLL)\n",
    "\n",
    "La ditancia de un punto a un plano esta dada por \n",
    "\n",
    "$$\n",
    "\\frac{\\theta^{T} \\mathbf{p}+\\theta_{0}}{\\|\\theta\\|}\n",
    "$$"
   ]
  },
  {
   "cell_type": "code",
   "execution_count": 1,
   "id": "77623d8b-35f9-4649-968c-4ceb3370306f",
   "metadata": {},
   "outputs": [],
   "source": [
    "import numpy as np"
   ]
  },
  {
   "cell_type": "markdown",
   "id": "06783ef1-23c0-4f8e-a9df-85540c6cc6b7",
   "metadata": {},
   "source": [
    "## 1.2)\n",
    "\n",
    "- Entrada: punto y parametros del plano\n",
    "- Salida: distancia del punto a la recta"
   ]
  },
  {
   "cell_type": "code",
   "execution_count": 13,
   "id": "652a0afb-3a52-4b1c-9899-ac240a3f6872",
   "metadata": {},
   "outputs": [],
   "source": [
    "def signed_dist(x, th, th0):\n",
    "    num = np.transpose(th) @ x + th0\n",
    "    den = np.linalg.norm(th)\n",
    "    dis = num / den\n",
    "    return dis"
   ]
  },
  {
   "cell_type": "code",
   "execution_count": 14,
   "id": "cffb2c56-1f3e-4689-af12-20e4fc7680a9",
   "metadata": {},
   "outputs": [],
   "source": [
    "# funciones auxiliares\n",
    "\n",
    "def rv(value_list):\n",
    "    return np.array([value_list])\n",
    "\n",
    "def tp(A):\n",
    "    return np.transpose(A)\n",
    "\n",
    "def cv(value_list):\n",
    "    return tp(rv(value_list))"
   ]
  },
  {
   "cell_type": "code",
   "execution_count": 17,
   "id": "09099b25-0d68-4a5a-a66f-609417c8cd94",
   "metadata": {},
   "outputs": [
    {
     "name": "stdout",
     "output_type": "stream",
     "text": [
      "[[4.94974747]]\n",
      "[[-4.94974747]]\n"
     ]
    }
   ],
   "source": [
    "th = cv([1,1])\n",
    "th0 = 0\n",
    "x = cv([3,4])\n",
    "print(signed_dist(x,th,th0))\n",
    "\n",
    "x = cv([-3,-4])\n",
    "print(signed_dist(x,th,th0))"
   ]
  },
  {
   "cell_type": "markdown",
   "id": "a69b6a5d-98fd-4dc4-af51-039675d79b81",
   "metadata": {},
   "source": [
    "## 1.3)\n",
    "\n",
    "- Entradas: punto, parametros del hiperplano, en formato columna\n",
    "- Salidas: arrglo de $1\\times 1$ (2D), con +1 lado positivo, -1 lado nedativo, 0 sobre el plano "
   ]
  },
  {
   "cell_type": "code",
   "execution_count": 18,
   "id": "5416cac3-2a0c-42ba-a767-c78153b26efd",
   "metadata": {},
   "outputs": [],
   "source": [
    "def positive(x, th, th0):\n",
    "    dist = signed_dist(x, th, th0)\n",
    "    return np.sign(dist)"
   ]
  },
  {
   "cell_type": "code",
   "execution_count": 40,
   "id": "c40645a3-3acc-4ec6-9cc8-98aaa6f01032",
   "metadata": {},
   "outputs": [
    {
     "name": "stdout",
     "output_type": "stream",
     "text": [
      "[[1.]]\n",
      "[[-1.]]\n",
      "[[0.]]\n"
     ]
    }
   ],
   "source": [
    "th = cv([1,1])\n",
    "th0 = 0\n",
    "x = cv([3,4])\n",
    "print(positive(x,th,th0))\n",
    "\n",
    "x = cv([-3,-4])\n",
    "print(positive(x,th,th0))\n",
    "\n",
    "x = cv([-1,1])\n",
    "print(positive(x,th,th0))"
   ]
  },
  {
   "cell_type": "code",
   "execution_count": 42,
   "id": "bfbe540e-4c62-491e-b21b-7af344fd1f05",
   "metadata": {},
   "outputs": [
    {
     "data": {
      "text/plain": [
       "array([[ 1., -1.,  1., -1.]])"
      ]
     },
     "execution_count": 42,
     "metadata": {},
     "output_type": "execute_result"
    }
   ],
   "source": [
    "th = cv([1,-1,2,-3])\n",
    "th0 = 0\n",
    "data = np.transpose(np.array([[1,-1,2,-3],[1,2,3,4],[-1,-1,-1,-1],[1,1,1,1]]))\n",
    "\n",
    "positive(data,th,th0)"
   ]
  },
  {
   "cell_type": "markdown",
   "id": "1156e931-8100-4410-b7b6-aed1e5597c8a",
   "metadata": {},
   "source": [
    "## 1.4) \n",
    "\n",
    "```\n",
    "data = np.transpose(np.array([[1, 2], [1, 3], [2, 1], [1, -1], [2, -1]]))\n",
    "labels = rv([-1, -1, +1, +1, +1])\n",
    "```\n",
    "\n",
    "Dados los parametros del hiperplanp aplicar positive a `data`\n",
    "y verificar que tanto se parecen a las etiquetas dadas"
   ]
  },
  {
   "cell_type": "code",
   "execution_count": 24,
   "id": "b2c4890e-b20a-4e2b-b025-258de53a866f",
   "metadata": {},
   "outputs": [],
   "source": [
    "data = np.transpose(np.array([[1, 2], [1, 3], [2, 1], [1, -1], [2, -1]]))\n",
    "labels = rv([-1, -1, +1, +1, +1])"
   ]
  },
  {
   "cell_type": "code",
   "execution_count": 25,
   "id": "a2a1c60e-21e2-4f83-8d0a-4c34683a2f7a",
   "metadata": {},
   "outputs": [
    {
     "data": {
      "text/plain": [
       "array([[ 1.,  1.,  1., -1., -1.]])"
      ]
     },
     "execution_count": 25,
     "metadata": {},
     "output_type": "execute_result"
    }
   ],
   "source": [
    "th = cv([1,1])\n",
    "th0 = -2\n",
    "clasi = positive(data,th,th0)\n",
    "clasi"
   ]
  },
  {
   "cell_type": "code",
   "execution_count": 26,
   "id": "d3f50166-a4bf-458d-892a-07259d9aeb45",
   "metadata": {},
   "outputs": [
    {
     "data": {
      "text/plain": [
       "array([[False, False,  True, False, False]])"
      ]
     },
     "execution_count": 26,
     "metadata": {},
     "output_type": "execute_result"
    }
   ],
   "source": [
    "clasi == labels"
   ]
  },
  {
   "cell_type": "markdown",
   "id": "47ee493f-7de1-4d17-bb4f-f7304d243359",
   "metadata": {},
   "source": [
    "## 1.5)\n",
    "\n",
    "Automatizar lo anterior. Regresa el número de clasificaciones correctas"
   ]
  },
  {
   "cell_type": "code",
   "execution_count": 27,
   "id": "46abbdee-c1d6-4a84-a8b5-fe275b754003",
   "metadata": {},
   "outputs": [],
   "source": [
    "def score(data, labels, th, th0):\n",
    "    compara = positive(data,th,th0) == labels\n",
    "    return compara.sum()\n"
   ]
  },
  {
   "cell_type": "code",
   "execution_count": 29,
   "id": "a7773cc0-ee59-4776-a897-d9c94b1d98db",
   "metadata": {},
   "outputs": [
    {
     "data": {
      "text/plain": [
       "1"
      ]
     },
     "execution_count": 29,
     "metadata": {},
     "output_type": "execute_result"
    }
   ],
   "source": [
    "score(data, labels, th, th0)"
   ]
  },
  {
   "cell_type": "markdown",
   "id": "56750c9f-785d-4bf3-a5c8-06d96ed7c3ba",
   "metadata": {},
   "source": [
    "## 1.6) \n",
    "\n",
    "Dados un conjunto de hiperpalno, elegir al mejor entre una cantidad dada. El mejor es aquel que genere mayor score\n",
    "    "
   ]
  },
  {
   "cell_type": "code",
   "execution_count": 38,
   "id": "ed92f923-1ca9-42ab-80f8-485ef64f3458",
   "metadata": {},
   "outputs": [],
   "source": [
    "def best_separator(data, labels, ths, th0s):\n",
    "    _, c = ths.shape\n",
    "    lista = []\n",
    "    for i in range(c):\n",
    "        lista.append(score(data, labels, th, th0))\n",
    "    maxi = max(lista)\n",
    "    idx = lista.index(maxi)\n",
    "    vec = ths[:,idx]\n",
    "    return (cv(vec), th0s[:,idx:idx+1])"
   ]
  },
  {
   "cell_type": "code",
   "execution_count": 39,
   "id": "706f3f64-a6b1-413e-a259-460dbab24855",
   "metadata": {},
   "outputs": [
    {
     "data": {
      "text/plain": [
       "(array([[-1],\n",
       "        [ 2]]),\n",
       " array([[-1]]))"
      ]
     },
     "execution_count": 39,
     "metadata": {},
     "output_type": "execute_result"
    }
   ],
   "source": [
    "ths = np.transpose(np.array([[-1, 2], [1, -2], [-2, -1]]))\n",
    "th0s = np.array([[-1,1,-2]])\n",
    "                   \n",
    "best_separator(data, labels, ths, th0s)"
   ]
  }
 ],
 "metadata": {
  "kernelspec": {
   "display_name": "Python 3 (ipykernel)",
   "language": "python",
   "name": "python3"
  },
  "language_info": {
   "codemirror_mode": {
    "name": "ipython",
    "version": 3
   },
   "file_extension": ".py",
   "mimetype": "text/x-python",
   "name": "python",
   "nbconvert_exporter": "python",
   "pygments_lexer": "ipython3",
   "version": "3.8.5"
  }
 },
 "nbformat": 4,
 "nbformat_minor": 5
}
